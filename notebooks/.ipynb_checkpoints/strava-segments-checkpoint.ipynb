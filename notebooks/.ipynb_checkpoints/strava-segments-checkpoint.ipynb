{
 "cells": [
  {
   "cell_type": "code",
   "execution_count": 1,
   "metadata": {
    "collapsed": true
   },
   "outputs": [],
   "source": [
    "import numpy as np\n",
    "import pandas as pd \n",
    "import matplotlib.pyplot as plt \n",
    "%matplotlib inline\n",
    "plt.rcParams.update({'figure.figsize':(10,6), 'image.cmap':'RdBu_r',\n",
    "                     'font.size':14})"
   ]
  },
  {
   "cell_type": "code",
   "execution_count": 2,
   "metadata": {
    "collapsed": true
   },
   "outputs": [],
   "source": [
    "import datetime"
   ]
  },
  {
   "cell_type": "code",
   "execution_count": 3,
   "metadata": {
    "collapsed": true
   },
   "outputs": [],
   "source": [
    "import stravalib"
   ]
  },
  {
   "cell_type": "code",
   "execution_count": 4,
   "metadata": {
    "collapsed": false
   },
   "outputs": [],
   "source": [
    "with open('../api_key') as api_file:\n",
    "    CLIENT_ID = api_file.readline().replace('\\n','')\n",
    "    CLIENT_SECRET = api_file.readline().strip()\n",
    "    ACCESS_TOKEN = api_file.readline().strip()"
   ]
  },
  {
   "cell_type": "code",
   "execution_count": 5,
   "metadata": {
    "collapsed": false
   },
   "outputs": [
    {
     "name": "stdout",
     "output_type": "stream",
     "text": [
      "<Athlete id=1639875 firstname=b'Jake' lastname=b'Edman'>\n",
      "<Athlete id=7656735 firstname=b'Stephanie' lastname=b'Wuerth'>\n"
     ]
    }
   ],
   "source": [
    "# access using stored access token \n",
    "# can use id + secret to retrieve token as well using \n",
    "# client.exchange_code_for_token\n",
    "client = stravalib.Client(access_token=ACCESS_TOKEN) \n",
    "\n",
    "print(client.get_athlete()) # me \n",
    "\n",
    "print(client.get_athlete(athlete_id=7656735))#stephanie"
   ]
  },
  {
   "cell_type": "code",
   "execution_count": 6,
   "metadata": {
    "collapsed": false
   },
   "outputs": [],
   "source": [
    "# get segment ids from most recent runs\n",
    "segment_ids = []\n",
    "for a in client.get_activities( limit = 5 ):\n",
    "    # this is jank but I can't pass include_all_efforts to get_activities\n",
    "    activity = client.get_activity(a.id, include_all_efforts = True) # return all segment efforts\n",
    "    for effort in activity.segment_efforts:\n",
    "        segment_ids.append(effort.segment.id)"
   ]
  },
  {
   "cell_type": "code",
   "execution_count": 7,
   "metadata": {
    "collapsed": false
   },
   "outputs": [
    {
     "name": "stdout",
     "output_type": "stream",
     "text": [
      "number of segment efforts: 64\n",
      "number of unique segments: 60\n"
     ]
    }
   ],
   "source": [
    "print('number of segment efforts: {}'.format( len(segment_ids)))\n",
    "segment_ids_unique = list(set(segment_ids))\n",
    "print('number of unique segments: {}'.format( len(segment_ids_unique)))\n",
    "# could choose to weight by frequency of segments, or not "
   ]
  },
  {
   "cell_type": "code",
   "execution_count": 11,
   "metadata": {
    "collapsed": false
   },
   "outputs": [
    {
     "data": {
      "text/plain": [
       "[<SegmentLeaderboardEntry rank=1 athlete_name='Colin Gannon'>,\n",
       " <SegmentLeaderboardEntry rank=2 athlete_name='David Yu'>,\n",
       " <SegmentLeaderboardEntry rank=3 athlete_name='Ryan Neely'>,\n",
       " <SegmentLeaderboardEntry rank=4 athlete_name='Matt Weber'>,\n",
       " <SegmentLeaderboardEntry rank=5 athlete_name='Sam Robinson'>,\n",
       " <SegmentLeaderboardEntry rank=76 athlete_name='Alexander Teran'>,\n",
       " <SegmentLeaderboardEntry rank=77 athlete_name='David Weisz'>,\n",
       " <SegmentLeaderboardEntry rank=78 athlete_name='Jake Edman'>,\n",
       " <SegmentLeaderboardEntry rank=78 athlete_name='Reece Clark'>,\n",
       " <SegmentLeaderboardEntry rank=80 athlete_name='Fergal C'>]"
      ]
     },
     "execution_count": 11,
     "metadata": {},
     "output_type": "execute_result"
    }
   ],
   "source": [
    "# get a segment leaderboard\n",
    "# should put these into a dataframe eventually\n",
    "\n",
    "test = client.get_segment_leaderboard(segment_id = segment_ids[1], top_results_limit=5)\n",
    "\n",
    "# stravalib does not appear to allow the context_entries keyword,\n",
    "# which would allow me to retrieve more entries around the requesting athlete\n",
    "# can return the whole leaderboard by requesting top_results_limit = 0, but that seems bad\n",
    "# I \n",
    "test.entries"
   ]
  },
  {
   "cell_type": "code",
   "execution_count": 15,
   "metadata": {
    "collapsed": false
   },
   "outputs": [
    {
     "data": {
      "text/plain": [
       "[<SegmentLeaderboardEntry rank=1 athlete_name='Colin Gannon'>,\n",
       " <SegmentLeaderboardEntry rank=63 athlete_name='Christoph P'>,\n",
       " <SegmentLeaderboardEntry rank=63 athlete_name='Nick Nold'>,\n",
       " <SegmentLeaderboardEntry rank=65 athlete_name='Devin Cornwall'>,\n",
       " <SegmentLeaderboardEntry rank=66 athlete_name='James Duff'>,\n",
       " <SegmentLeaderboardEntry rank=67 athlete_name='Varun Pemmaraju'>,\n",
       " <SegmentLeaderboardEntry rank=68 athlete_name='Travis Gaylord'>,\n",
       " <SegmentLeaderboardEntry rank=69 athlete_name='David Craig'>,\n",
       " <SegmentLeaderboardEntry rank=70 athlete_name='Nick Lucey'>,\n",
       " <SegmentLeaderboardEntry rank=70 athlete_name='Jason Eshleman'>,\n",
       " <SegmentLeaderboardEntry rank=72 athlete_name='Kyle Ormsby'>,\n",
       " <SegmentLeaderboardEntry rank=72 athlete_name='Jack LaBarba'>,\n",
       " <SegmentLeaderboardEntry rank=74 athlete_name='Darrin Banks'>,\n",
       " <SegmentLeaderboardEntry rank=75 athlete_name='David Siegel'>,\n",
       " <SegmentLeaderboardEntry rank=76 athlete_name='Alexander Teran'>,\n",
       " <SegmentLeaderboardEntry rank=77 athlete_name='David Weisz'>,\n",
       " <SegmentLeaderboardEntry rank=78 athlete_name='Jake Edman'>,\n",
       " <SegmentLeaderboardEntry rank=78 athlete_name='Reece Clark'>,\n",
       " <SegmentLeaderboardEntry rank=80 athlete_name='Fergal C'>,\n",
       " <SegmentLeaderboardEntry rank=81 athlete_name='Brandon Brown'>,\n",
       " <SegmentLeaderboardEntry rank=82 athlete_name='Billy Janhunen'>,\n",
       " <SegmentLeaderboardEntry rank=82 athlete_name='Kevin Coady (TriForce!)'>,\n",
       " <SegmentLeaderboardEntry rank=84 athlete_name='Jim (James)  Wingert '>,\n",
       " <SegmentLeaderboardEntry rank=85 athlete_name='Richard Ollington'>,\n",
       " <SegmentLeaderboardEntry rank=86 athlete_name='Andrew Sellergren'>,\n",
       " <SegmentLeaderboardEntry rank=87 athlete_name='nicholas raber'>,\n",
       " <SegmentLeaderboardEntry rank=87 athlete_name='John Nickerson'>,\n",
       " <SegmentLeaderboardEntry rank=87 athlete_name='James Turitto'>,\n",
       " <SegmentLeaderboardEntry rank=90 athlete_name='Patrick Flemming'>,\n",
       " <SegmentLeaderboardEntry rank=91 athlete_name='Clark Scheffy'>,\n",
       " <SegmentLeaderboardEntry rank=92 athlete_name='Doug Ellington'>,\n",
       " <SegmentLeaderboardEntry rank=93 athlete_name='Frank Febbraro'>]"
      ]
     },
     "execution_count": 15,
     "metadata": {},
     "output_type": "execute_result"
    }
   ],
   "source": [
    "# fixed stravalib so it takes context_entries now\n",
    "test = client.get_segment_leaderboard(segment_id = segment_ids[1], top_results_limit=1, context_entries=15)\n",
    "test.entries\n",
    "# still can't get it to print less than 1 of the top entries though-- will have to strip that off "
   ]
  },
  {
   "cell_type": "code",
   "execution_count": null,
   "metadata": {
    "collapsed": true
   },
   "outputs": [],
   "source": []
  }
 ],
 "metadata": {
  "kernelspec": {
   "display_name": "Python [Root]",
   "language": "python",
   "name": "Python [Root]"
  },
  "language_info": {
   "codemirror_mode": {
    "name": "ipython",
    "version": 3
   },
   "file_extension": ".py",
   "mimetype": "text/x-python",
   "name": "python",
   "nbconvert_exporter": "python",
   "pygments_lexer": "ipython3",
   "version": "3.5.2"
  }
 },
 "nbformat": 4,
 "nbformat_minor": 0
}
